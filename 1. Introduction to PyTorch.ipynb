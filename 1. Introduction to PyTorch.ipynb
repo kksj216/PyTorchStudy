{
 "cells": [
  {
   "cell_type": "markdown",
   "id": "b322596f-9ec7-4937-b9d6-666f58009bda",
   "metadata": {
    "tags": []
   },
   "source": [
    "# 1. Introduction to PyTorch\n",
    "## 1.4 Datasets & Dataloaders"
   ]
  },
  {
   "cell_type": "markdown",
   "id": "8bd47a77-24ff-4033-8605-ac2fb349b786",
   "metadata": {},
   "source": [
    "### Loading a Dataset \n",
    "\n",
    "__FashionMNIST__ paramater\n",
    "\n",
    "- `root` is the path where the train/test data is stored,\n",
    "- `train` specifies training or test dataset,\n",
    "- `download=True` downloads the data from the internet if it’s not available at root.\n",
    "- `transform` and `target_transform` specify the feature and label transformations"
   ]
  },
  {
   "cell_type": "code",
   "execution_count": 3,
   "id": "11e45722-571a-422f-a833-d0a0b17f6f91",
   "metadata": {},
   "outputs": [],
   "source": [
    "import torch\n",
    "from torch.utils.data import Dataset\n",
    "from torchvision import datasets\n",
    "from torchvision.transforms import ToTensor\n",
    "import matplotlib.pyplot as plt\n",
    "\n",
    "\n",
    "training_data = datasets.FashionMNIST(\n",
    "    root=\"data\",\n",
    "    train=True,\n",
    "    download=True,\n",
    "    transform=ToTensor()\n",
    ")\n",
    "\n",
    "test_data = datasets.FashionMNIST(\n",
    "    root=\"data\",\n",
    "    train=False,\n",
    "    download=True,\n",
    "    transform=ToTensor()\n",
    ")"
   ]
  },
  {
   "cell_type": "markdown",
   "id": "c847aa0f-dfab-4f1b-8de2-f6d5ad018359",
   "metadata": {},
   "source": [
    "### Iterating and Visualizing the Dataset "
   ]
  },
  {
   "cell_type": "code",
   "execution_count": 4,
   "id": "24e442c9-eeb1-4a0d-8448-e52a93b52629",
   "metadata": {},
   "outputs": [
    {
     "data": {
      "image/png": "[encoded data removed]",
      "text/plain": [
       "<Figure size 576x576 with 9 Axes>"
      ]
     },
     "metadata": {
      "needs_background": "light"
     },
     "output_type": "display_data"
    }
   ],
   "source": [
    "labels_map = {\n",
    "    0: \"T-Shirt\",\n",
    "    1: \"Trouser\",\n",
    "    2: \"Pullover\",\n",
    "    3: \"Dress\",\n",
    "    4: \"Coat\",\n",
    "    5: \"Sandal\",\n",
    "    6: \"Shirt\",\n",
    "    7: \"Sneaker\",\n",
    "    8: \"Bag\",\n",
    "    9: \"Ankle Boot\",\n",
    "}\n",
    "figure = plt.figure(figsize=(8, 8))\n",
    "cols, rows = 3, 3\n",
    "for i in range(1, cols * rows + 1):\n",
    "    sample_idx = torch.randint(len(training_data), size=(1,)).item()\n",
    "    img, label = training_data[sample_idx]\n",
    "    figure.add_subplot(rows, cols, i)\n",
    "    plt.title(labels_map[label])\n",
    "    plt.axis(\"off\")\n",
    "    plt.imshow(img.squeeze(), cmap=\"gray\")\n",
    "plt.show()"
   ]
  },
  {
   "cell_type": "markdown",
   "id": "7f67cc56-e00e-4b21-8eb5-20620a33d434",
   "metadata": {},
   "source": [
    "### Creating a Custom Dataset for your files \n",
    "\n",
    "custome Dataset class 는  __ __init__ __, __ __len__ __, and __ __getitem__ __ 함수를 implement해야한다. \n",
    "FasionMNIST image들은 `img_dir`에 저장되고, label은 `annotations_file` CSV 파일에 저장된다."
   ]
  },
  {
   "cell_type": "code",
   "execution_count": 5,
   "id": "5aef84aa-eb54-428b-8028-913da0a33355",
   "metadata": {},
   "outputs": [],
   "source": [
    "import os\n",
    "import pandas as pd\n",
    "from torchvision.io import read_image\n",
    "\n",
    "class CustomImageDataset(Dataset):\n",
    "    def __init__(self, annotations_file, img_dir, transform=None, target_transform=None):\n",
    "        self.img_labels = pd.read_csv(annotations_file)\n",
    "        self.img_dir = img_dir\n",
    "        self.transform = transform\n",
    "        self.target_transform = target_transform\n",
    "\n",
    "    def __len__(self):\n",
    "        return len(self.img_labels)\n",
    "\n",
    "    def __getitem__(self, idx):\n",
    "        img_path = os.path.join(self.img_dir, self.img_labels.iloc[idx, 0])\n",
    "        image = read_image(img_path)\n",
    "        label = self.img_labels.iloc[idx, 1]\n",
    "        if self.transform:\n",
    "            image = self.transform(image)\n",
    "        if self.target_transform:\n",
    "            label = self.target_transform(label)\n",
    "        return image, label"
   ]
  },
  {
   "cell_type": "markdown",
   "id": "c763ba44-562d-4637-84bd-d15a60d2b1ae",
   "metadata": {},
   "source": [
    "* __ init __ \n",
    "  * Dataset object를 초기화할 때 한번 실행 \n",
    "  * Initialize the directory containing the images, the annotations file, and both transforms\n",
    "  \n",
    "* __ len __ \n",
    "  * returns the number of samples in our dataset \n",
    "\n",
    "* __ getitem __ \n",
    "  * loads and returns samples from the dataset at the given index `idx`. \n",
    "  * Convert images to a tensor using `read_image` \n",
    "  * retreives the corresponding label from the csv data in `self.img_labels`, calls the transform functions on them, \n",
    "  * returns the tensor image and corresponding label in a tuple. \n",
    "  \n"
   ]
  },
  {
   "cell_type": "markdown",
   "id": "2a9d7878-deb1-4584-8c56-baa2cd6c3ea3",
   "metadata": {},
   "source": [
    "### Preparing your data for training with DataLoaders \n",
    "\n",
    "* `Dataset` retreives our dataset's features and labels onw sample at a time. \n",
    "* model을 train하면서 일반적으로 sample을 minibatches로 보내고, *model overfitting을 줄이기 위해* 각 epoch마다 data를 __reshuffle__ 하고, data retrieval의 속도를 높이기 위해 Python의 `multiprocessing`을 사용한다. \n",
    "\n",
    "* `DataLoader` is an iterable that abstracts this complexity for us in an easy API."
   ]
  },
  {
   "cell_type": "code",
   "execution_count": 7,
   "id": "21433918-5ac6-4358-9de3-98697235cbf5",
   "metadata": {},
   "outputs": [],
   "source": [
    "from torch.utils.data import DataLoader\n",
    "\n",
    "train_dataloader = DataLoader(training_data, batch_size=64, shuffle=True)\n",
    "test_dataloader = DataLoader(test_data, batch_size=64, shuffle=True)"
   ]
  },
  {
   "cell_type": "markdown",
   "id": "1ae03b4b-204b-4d78-a9d6-06958ab8be39",
   "metadata": {},
   "source": [
    "### Iterate through the DataLoader \n",
    "\n",
    "* dataset을 `DataLoader`로 load 하고 필요한 만큼 dataset을 iterate할 수 있다. \n",
    "* `shuffle=True` => After we iterate over all batches, the data is shuffled. \n"
   ]
  },
  {
   "cell_type": "code",
   "execution_count": 9,
   "id": "fa1bb2fb-dedd-4a67-8c63-44994dd2b63d",
   "metadata": {},
   "outputs": [
    {
     "name": "stdout",
     "output_type": "stream",
     "text": [
      "Feature batch shape: torch.Size([64, 1, 28, 28])\n",
      "Labels batch shape: torch.Size([64])\n"
     ]
    },
    {
     "data": {
      "image/png": "[encoded data removed]",
      "text/plain": [
       "<Figure size 432x288 with 1 Axes>"
      ]
     },
     "metadata": {
      "needs_background": "light"
     },
     "output_type": "display_data"
    },
    {
     "name": "stdout",
     "output_type": "stream",
     "text": [
      "Label: 3\n"
     ]
    }
   ],
   "source": [
    "# Display image and label.\n",
    "train_features, train_labels = next(iter(train_dataloader))  ## \n",
    "print(f\"Feature batch shape: {train_features.size()}\")\n",
    "print(f\"Labels batch shape: {train_labels.size()}\")\n",
    "img = train_features[0].squeeze()  ## .squeeze(): 1차원인 것을 없애주는. dimension을 맞춰주는 함수\n",
    "label = train_labels[0]\n",
    "plt.imshow(img, cmap=\"gray\")\n",
    "plt.show()\n",
    "print(f\"Label: {label}\")"
   ]
  },
  {
   "cell_type": "markdown",
   "id": "d29a7b41-5cc5-4f53-ba10-3133911c8b9d",
   "metadata": {},
   "source": [
    "\n",
    "-----\n",
    "\n",
    "## 1.5 Transforms \n",
    "\n",
    "* Data가 항상 machine learning algorithm을 학습하기 위해 필요한 형태로 가공되어서 오지는 않는다. 데이터를 손질하고 학습하기에 적합하게 만들기 위해서 __transforms__ 를 사용한다. \n",
    "\n",
    "* 모든 TorchVision dataset은 두 parameter를 가지고 있는데 \n",
    "  - `transform`: modify the features \n",
    "  - `target_transform`: modify the labels (that accept callables containing the transformation logic)\n",
    "\n",
    "* FashionMNIST __feature__ 는 PIL image format 이고 __label__ 은 integer 이다. 학습을 하기 위해서는 __feature__ 는 normalized tensor로, __label__ 은 one-hot encoded tensor로 가져야 한다. 이렇게 변형하기 위해서 `ToTensor`와 `Lambda` 를 사용한다. \n"
   ]
  },
  {
   "cell_type": "code",
   "execution_count": 11,
   "id": "881dd9fd-7c65-4013-9924-d8664aeae5b4",
   "metadata": {},
   "outputs": [],
   "source": [
    "import torch\n",
    "from torchvision import datasets\n",
    "from torchvision.transforms import ToTensor, Lambda\n",
    "\n",
    "ds = datasets.FashionMNIST(\n",
    "    root=\"data\",\n",
    "    train=True,\n",
    "    download=True,\n",
    "    transform=ToTensor(),\n",
    "    target_transform=Lambda(lambda y: torch.zeros(10, dtype=torch.float).scatter_(0, torch.tensor(y), value=1))\n",
    ")"
   ]
  },
  {
   "cell_type": "markdown",
   "id": "b04ba42b-3de6-4569-89ca-d16b94aa3c15",
   "metadata": {},
   "source": [
    "### ToTenser() \n",
    "\n",
    "ToTensor converts a PIL images or NumPy `ndarray` into a `FloatTensor` and scales the image's pixel intensity values in the range [0., 1.]. \n",
    "\n",
    "### Lambda Transforms \n",
    "\n",
    "Lambda transforms apply any __user-defined lambda function__. Here we define a function to turn the integer into a one-hot encoded tensor. It first creates a zero tensor of size 10 (num of labels in dataset) and calls scatter_ which assigns a `value=1` on the index as given by the label `y`. "
   ]
  },
  {
   "cell_type": "code",
   "execution_count": 12,
   "id": "0c778ac0-2476-48cc-8d0a-02365f87ea0d",
   "metadata": {},
   "outputs": [],
   "source": [
    "target_transform = Lambda(lambda y: torch.zeros(\n",
    "    10, dtype=torch.float).scatter_(dim=0, index=torch.tensor(y), value=1))"
   ]
  },
  {
   "cell_type": "markdown",
   "id": "a64ed875-1c5e-4716-8fd6-3e9262ba681e",
   "metadata": {},
   "source": [
    "\n",
    "----\n",
    "\n",
    "## 1.6 Build the neural network \n",
    "\n",
    "Neural networks comprise of layers/modules that perform operations on data. \n",
    "나만의 neural network를 build 하기 위한 building block을 __torch.nn__ namespace가 제공한다. \n",
    "Pytorch에 모든 모듈은 __nn.Module__ 의 subclass 이다. neural network는 서로 다른 layer들로 구성된 모듈 자체이다. 이 nested structure는 복잡한 구조를 만들고 다루기 쉽게 만들어준다. \n",
    "\n",
    "이 다음부터 FashionMNIST dataset을 구분하기 위한 neural network를 만드는 예제 코드이다! \n"
   ]
  },
  {
   "cell_type": "code",
   "execution_count": 14,
   "id": "ced7783e-877b-46cd-a2a4-0dacfe3f724f",
   "metadata": {},
   "outputs": [],
   "source": [
    "import os\n",
    "import torch\n",
    "from torch import nn\n",
    "from torch.utils.data import DataLoader\n",
    "from torchvision import datasets, transforms"
   ]
  },
  {
   "cell_type": "markdown",
   "id": "6d75a32b-c388-4a61-afc7-10758390ad9b",
   "metadata": {},
   "source": [
    "### Get Device for Traning "
   ]
  },
  {
   "cell_type": "code",
   "execution_count": 15,
   "id": "c5e9befb-7263-4662-b3c5-e45e09cb6527",
   "metadata": {},
   "outputs": [
    {
     "name": "stdout",
     "output_type": "stream",
     "text": [
      "Using cpu device\n"
     ]
    }
   ],
   "source": [
    "device = \"cuda\" if torch.cuda.is_available() else \"cpu\"\n",
    "print(f\"Using {device} device\")"
   ]
  },
  {
   "cell_type": "markdown",
   "id": "379691d6-f795-4cd4-8bd6-addc0d5fb48a",
   "metadata": {},
   "source": [
    "### Define the Class \n",
    "`nn.Module` 을 상속해서 neural network를 정의하고 neural network의 layer들을 __ init __ 함수에서 초기화한다. 모든 `nn.Module` subclass는 input data에 forward 방식으로 동작한다. "
   ]
  },
  {
   "cell_type": "code",
   "execution_count": 17,
   "id": "ce0fb046-85e3-4e70-a5e2-0523a46b6510",
   "metadata": {},
   "outputs": [
    {
     "name": "stdout",
     "output_type": "stream",
     "text": [
      "NeuralNetwork(\n",
      "  (flatten): Flatten(start_dim=1, end_dim=-1)\n",
      "  (linear_relu_stack): Sequential(\n",
      "    (0): Linear(in_features=784, out_features=512, bias=True)\n",
      "    (1): ReLU()\n",
      "    (2): Linear(in_features=512, out_features=512, bias=True)\n",
      "    (3): ReLU()\n",
      "    (4): Linear(in_features=512, out_features=10, bias=True)\n",
      "  )\n",
      ")\n"
     ]
    }
   ],
   "source": [
    "class NeuralNetwork(nn.Module):\n",
    "    def __init__(self):\n",
    "        super(NeuralNetwork, self).__init__()\n",
    "        self.flatten = nn.Flatten()\n",
    "        self.linear_relu_stack = nn.Sequential(\n",
    "            nn.Linear(28*28, 512),\n",
    "            nn.ReLU(),\n",
    "            nn.Linear(512, 512),\n",
    "            nn.ReLU(),\n",
    "            nn.Linear(512, 10),\n",
    "        )\n",
    "\n",
    "    def forward(self, x):\n",
    "        x = self.flatten(x)\n",
    "        logits = self.linear_relu_stack(x)\n",
    "        return logits\n",
    "    \n",
    "model = NeuralNetwork().to(device)\n",
    "print(model)"
   ]
  },
  {
   "cell_type": "markdown",
   "id": "2aba649e-d02f-46ee-a699-32eb1c2af6ad",
   "metadata": {},
   "source": [
    "모델을 사용하기 위해 input data를 넣어주면 된다. \n",
    "\n",
    "This executes the model’s forward, along with some background operations. Do not call model.forward() directly!\n",
    "\n",
    "Calling the model on the input returns a 10-dimensional tensor with raw predicted values for each class. We get the prediction probabilities by passing it through an instance of the nn.Softmax module."
   ]
  },
  {
   "cell_type": "code",
   "execution_count": 30,
   "id": "4143d6f7-8926-4c76-a437-45df88ae7857",
   "metadata": {},
   "outputs": [
    {
     "name": "stdout",
     "output_type": "stream",
     "text": [
      "Predicted class: tensor([9])\n"
     ]
    }
   ],
   "source": [
    "X = torch.rand(1, 28, 28, device=device)\n",
    "logits = model(X)\n",
    "pred_probab = nn.Softmax(dim=1)(logits)\n",
    "y_pred = pred_probab.argmax(1)\n",
    "print(f\"Predicted class: {y_pred}\")"
   ]
  },
  {
   "cell_type": "markdown",
   "id": "3c380847-d80d-4a79-8967-a5ea6d337add",
   "metadata": {},
   "source": [
    "### Model Layers \n",
    "\n",
    "example of break down the layers in the FashionMNIST model \n",
    "\n",
    "=> take a sample minibatch of 3 images of size 28x28 and see what happens to it as we pass it through the network. \n"
   ]
  },
  {
   "cell_type": "code",
   "execution_count": 31,
   "id": "c4aae8b9-2e5f-4341-b91a-49ed4782b1f9",
   "metadata": {},
   "outputs": [
    {
     "name": "stdout",
     "output_type": "stream",
     "text": [
      "torch.Size([3, 28, 28])\n"
     ]
    }
   ],
   "source": [
    "input_image = torch.rand(3,28,28)\n",
    "print(input_image.size())"
   ]
  },
  {
   "cell_type": "markdown",
   "id": "ea0ea7fd-2a60-4cd5-870b-861a806d84cb",
   "metadata": {},
   "source": [
    "### nn.Flatten \n",
    "\n",
    "initialize the nn.Flatten layer to convert each 2D 28x28 image into a contiguous array of 784 pixel values. \n"
   ]
  },
  {
   "cell_type": "code",
   "execution_count": 32,
   "id": "c72c7731-a6ad-4e26-a631-b1c9cd2db0fa",
   "metadata": {},
   "outputs": [
    {
     "name": "stdout",
     "output_type": "stream",
     "text": [
      "torch.Size([3, 784])\n"
     ]
    }
   ],
   "source": [
    "flatten = nn.Flatten()\n",
    "flat_image = flatten(input_image)\n",
    "print(flat_image.size())"
   ]
  },
  {
   "cell_type": "markdown",
   "id": "4b44e74a-6b37-4800-b4fb-8b27b1db511c",
   "metadata": {},
   "source": [
    "### nn.Linear \n",
    "a module that applies a linear transformation on the input using its stored weights and biases. \n"
   ]
  },
  {
   "cell_type": "code",
   "execution_count": 33,
   "id": "152cbe8f-0bea-412b-8197-1ae77aff9bbd",
   "metadata": {},
   "outputs": [
    {
     "name": "stdout",
     "output_type": "stream",
     "text": [
      "torch.Size([3, 20])\n"
     ]
    }
   ],
   "source": [
    "layer1 = nn.Linear(in_features=28*28, out_features=20)\n",
    "hidden1 = layer1(flat_image)\n",
    "print(hidden1.size())"
   ]
  },
  {
   "cell_type": "markdown",
   "id": "240631a5-ae47-471c-9d21-bd5f3fd513b8",
   "metadata": {},
   "source": [
    "### nn.ReLU \n",
    "\n",
    "Non-linear activations create the complex mappings between model's input and output. They are applied after linear transformations helping neural networks lean a wide variety of phenomena. \n",
    "\n",
    "nn.ReLU() 도 있고, 다른 다양한 activation function들이 있다. \n"
   ]
  },
  {
   "cell_type": "code",
   "execution_count": 34,
   "id": "95d4f500-4756-4529-9a44-5f6700c5a18c",
   "metadata": {},
   "outputs": [
    {
     "name": "stdout",
     "output_type": "stream",
     "text": [
      "Before ReLU: tensor([[ 0.0013,  0.2905,  0.4191, -0.1190,  0.3992, -0.2269,  0.1279, -0.0589,\n",
      "          0.0980, -0.6352, -0.0183,  0.0165, -0.1881,  0.4421,  0.4176, -0.2095,\n",
      "         -0.3602,  0.2165,  0.1295,  0.2766],\n",
      "        [-0.2128,  0.2400,  0.0130,  0.2664,  0.5669, -0.3406,  0.0659, -0.0899,\n",
      "         -0.3555, -0.2634,  0.1361,  0.0443,  0.0464, -0.0833,  0.5421, -0.1198,\n",
      "         -0.2386,  0.1615, -0.3461,  0.0414],\n",
      "        [-0.3102,  0.3113,  0.2228,  0.1433,  0.3480, -0.1680, -0.1957, -0.2883,\n",
      "         -0.2974, -0.2863,  0.3463, -0.1159,  0.2501, -0.0939,  0.3460, -0.2407,\n",
      "         -0.1515,  0.1285, -0.2155,  0.0087]], grad_fn=<AddmmBackward0>)\n",
      "\n",
      "\n",
      "After ReLU: tensor([[0.0013, 0.2905, 0.4191, 0.0000, 0.3992, 0.0000, 0.1279, 0.0000, 0.0980,\n",
      "         0.0000, 0.0000, 0.0165, 0.0000, 0.4421, 0.4176, 0.0000, 0.0000, 0.2165,\n",
      "         0.1295, 0.2766],\n",
      "        [0.0000, 0.2400, 0.0130, 0.2664, 0.5669, 0.0000, 0.0659, 0.0000, 0.0000,\n",
      "         0.0000, 0.1361, 0.0443, 0.0464, 0.0000, 0.5421, 0.0000, 0.0000, 0.1615,\n",
      "         0.0000, 0.0414],\n",
      "        [0.0000, 0.3113, 0.2228, 0.1433, 0.3480, 0.0000, 0.0000, 0.0000, 0.0000,\n",
      "         0.0000, 0.3463, 0.0000, 0.2501, 0.0000, 0.3460, 0.0000, 0.0000, 0.1285,\n",
      "         0.0000, 0.0087]], grad_fn=<ReluBackward0>)\n"
     ]
    }
   ],
   "source": [
    "print(f\"Before ReLU: {hidden1}\\n\\n\")\n",
    "hidden1 = nn.ReLU()(hidden1)\n",
    "print(f\"After ReLU: {hidden1}\")"
   ]
  },
  {
   "cell_type": "markdown",
   "id": "f3779ce4-6e3b-4559-be00-1b404275573b",
   "metadata": {},
   "source": [
    "### nn.Sequential \n",
    "\n",
    "__nn.Sequential__ is an ordered container of modules. Data is passed through all the modules in the same order as defined. \n",
    "\n",
    "You can use sequential containders to put together a quick network like `seq_modules`.\n",
    "\n"
   ]
  },
  {
   "cell_type": "code",
   "execution_count": 35,
   "id": "3dd45ada-ed44-4199-8422-f66fb99801b5",
   "metadata": {},
   "outputs": [],
   "source": [
    "seq_modules = nn.Sequential(\n",
    "    flatten,\n",
    "    layer1,\n",
    "    nn.ReLU(),\n",
    "    nn.Linear(20, 10)\n",
    ")\n",
    "input_image = torch.rand(3,28,28)\n",
    "logits = seq_modules(input_image)"
   ]
  },
  {
   "cell_type": "markdown",
   "id": "faadd455-da3e-40f4-b3c6-bb8c9f2590c9",
   "metadata": {},
   "source": [
    "### nn.Softmax "
   ]
  },
  {
   "cell_type": "markdown",
   "id": "68646141-3fe4-40af-bd22-d7e951327b63",
   "metadata": {},
   "source": [
    "neural netowkr의 마지막 linear layer는 nn.Softmax module로 전달되는 logits 을 return 한다. logits은 각 class에 대한 예측 확률을 나타내는 [0, 1] 값으로 나타내야 한다. `dim` parameter는 dimension을 나타내는 것으로 값들을 다 합치면 1이 되어야 한다. "
   ]
  },
  {
   "cell_type": "code",
   "execution_count": 36,
   "id": "f33d3886-2bf0-4857-81ff-baeba769d87b",
   "metadata": {},
   "outputs": [],
   "source": [
    "softmax = nn.Softmax(dim=1)\n",
    "pred_probab = softmax(logits)"
   ]
  },
  {
   "cell_type": "markdown",
   "id": "aef2331a-07d8-4597-ac8b-56051e81b633",
   "metadata": {
    "tags": []
   },
   "source": [
    "### Model Parameters \n",
    "\n",
    "neural network 안에 많은 layer들은 training 하면서 최적화된 weight와 bias로 parameterized 되어있다. `nn.Module`은 model object 안에 정의된 모든 field 를 자동으로 track하고, 모든 parameter는 model의 `parameters()`와 `named_parameters()` method로 access할 수 있다. "
   ]
  },
  {
   "cell_type": "code",
   "execution_count": 37,
   "id": "9c9ed540-beee-4661-91d6-49ee74d6177c",
   "metadata": {},
   "outputs": [
    {
     "name": "stdout",
     "output_type": "stream",
     "text": [
      "Model structure: NeuralNetwork(\n",
      "  (flatten): Flatten(start_dim=1, end_dim=-1)\n",
      "  (linear_relu_stack): Sequential(\n",
      "    (0): Linear(in_features=784, out_features=512, bias=True)\n",
      "    (1): ReLU()\n",
      "    (2): Linear(in_features=512, out_features=512, bias=True)\n",
      "    (3): ReLU()\n",
      "    (4): Linear(in_features=512, out_features=10, bias=True)\n",
      "  )\n",
      ")\n",
      "\n",
      "\n",
      "Layer: linear_relu_stack.0.weight | Size: torch.Size([512, 784]) | Values : tensor([[ 0.0062, -0.0117, -0.0147,  ...,  0.0173,  0.0316,  0.0066],\n",
      "        [-0.0334, -0.0256, -0.0225,  ..., -0.0158,  0.0234,  0.0324]],\n",
      "       grad_fn=<SliceBackward0>) \n",
      "\n",
      "Layer: linear_relu_stack.0.bias | Size: torch.Size([512]) | Values : tensor([-0.0244, -0.0227], grad_fn=<SliceBackward0>) \n",
      "\n",
      "Layer: linear_relu_stack.2.weight | Size: torch.Size([512, 512]) | Values : tensor([[ 0.0205, -0.0370,  0.0101,  ..., -0.0244,  0.0289, -0.0210],\n",
      "        [ 0.0440,  0.0329, -0.0084,  ...,  0.0017,  0.0287, -0.0414]],\n",
      "       grad_fn=<SliceBackward0>) \n",
      "\n",
      "Layer: linear_relu_stack.2.bias | Size: torch.Size([512]) | Values : tensor([0.0254, 0.0243], grad_fn=<SliceBackward0>) \n",
      "\n",
      "Layer: linear_relu_stack.4.weight | Size: torch.Size([10, 512]) | Values : tensor([[-0.0147,  0.0221,  0.0392,  ..., -0.0366, -0.0236,  0.0319],\n",
      "        [ 0.0426,  0.0128, -0.0180,  ..., -0.0287,  0.0313, -0.0153]],\n",
      "       grad_fn=<SliceBackward0>) \n",
      "\n",
      "Layer: linear_relu_stack.4.bias | Size: torch.Size([10]) | Values : tensor([ 0.0359, -0.0010], grad_fn=<SliceBackward0>) \n",
      "\n"
     ]
    }
   ],
   "source": [
    "print(f\"Model structure: {model}\\n\\n\")\n",
    "\n",
    "for name, param in model.named_parameters():\n",
    "    print(f\"Layer: {name} | Size: {param.size()} | Values : {param[:2]} \\n\")"
   ]
  },
  {
   "cell_type": "code",
   "execution_count": null,
   "id": "9ade6eeb-2973-46a2-afed-6d85618f1b82",
   "metadata": {},
   "outputs": [],
   "source": []
  }
 ],
 "metadata": {
  "kernelspec": {
   "display_name": "Python 3 (ipykernel)",
   "language": "python",
   "name": "python3"
  },
  "language_info": {
   "codemirror_mode": {
    "name": "ipython",
    "version": 3
   },
   "file_extension": ".py",
   "mimetype": "text/x-python",
   "name": "python",
   "nbconvert_exporter": "python",
   "pygments_lexer": "ipython3",
   "version": "3.9.7"
  }
 },
 "nbformat": 4,
 "nbformat_minor": 5
}
